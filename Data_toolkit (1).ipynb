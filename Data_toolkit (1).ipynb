{
  "nbformat": 4,
  "nbformat_minor": 0,
  "metadata": {
    "colab": {
      "provenance": []
    },
    "kernelspec": {
      "name": "python3",
      "display_name": "Python 3"
    },
    "language_info": {
      "name": "python"
    }
  },
  "cells": [
    {
      "cell_type": "markdown",
      "source": [
        "#**DATA TOOLKIT**"
      ],
      "metadata": {
        "id": "BCIm4RA_oHYE"
      }
    },
    {
      "cell_type": "markdown",
      "source": [
        "***THEORITICAL QUESTIONS***"
      ],
      "metadata": {
        "id": "t_BjoBnJon4H"
      }
    },
    {
      "cell_type": "markdown",
      "source": [
        "**Q1. What is NumPy and why is it widely used in Python?**"
      ],
      "metadata": {
        "id": "QGI4eF-aoQYL"
      }
    },
    {
      "cell_type": "markdown",
      "source": [
        " Numerical Python also known as NumPy, is a fundamental open-source library in Python for scientific computing. Its core feature is the ndarray object, which is a powerful, homogeneous, multidimensional array.\n",
        "\n",
        " Numpy is widely used in Python because:-\n",
        "\n",
        " NumPy arrays are implemented in C, which makes operations on them significantly faster than equivalent operations on standard Python lists, especially for large datasets. This speed is crucial for computationally intensive tasks in scientific computing and data analysis.It provides the ndarray object, a highly optimized data structure for representing and manipulating n-dimensional arrays and matrices Many other popular Python libraries in the data science and machine learning ecosystem, such as Pandas, SciPy, Scikit-learn, Matplotlib, and even deep learning frameworks like TensorFlow and PyTorch, are built upon NumPy."
      ],
      "metadata": {
        "id": "MknqVy47omia"
      }
    },
    {
      "cell_type": "markdown",
      "source": [
        "**Q2. How does broadcasting work in NumPy?**"
      ],
      "metadata": {
        "id": "x7mO9FCqqBzI"
      }
    },
    {
      "cell_type": "markdown",
      "source": [
        "Broadcasting in NumPy is a mechanism that allows arithmetic operations to be performed on arrays of different shapes and sizes.\n",
        "\n",
        "NumPy compares the dimensions of the two arrays involved in the operation, starting from the trailing (rightmost) dimension and moving towards the leading (leftmost) dimension. For two dimensions to be compatible, they must meet one of the following criteria:\n",
        "1. They are equal in size.\n",
        "2. One of them has a size of 1.\n",
        "\n",
        "If one array has fewer dimensions than the other, NumPy implicitly adds leading dimensions of size 1 to the smaller array to match the number of dimensions of the larger array before applying the compatibility rules."
      ],
      "metadata": {
        "id": "qoYsnCEurIf6"
      }
    },
    {
      "cell_type": "markdown",
      "source": [
        "**Q3. What is a Pandas DataFrame?**"
      ],
      "metadata": {
        "id": "WYsqi0AZqPy0"
      }
    },
    {
      "cell_type": "markdown",
      "source": [
        "A pandas DataFrame is a fundamental data structure within the pandas library in Python, designed for working with tabular, two-dimensional data. It can be conceptualized as a spreadsheet or a table in a relational database, where data is organized into rows and columns. It is a two-dimensional data structure in computer programming languages, similar to an Excel table. In Python, a DataFrame is an object in the pandas library. The pandas library is a core library used by Python in Excel, and DataFrame objects are a key structure for analyzing data with Python in Excel."
      ],
      "metadata": {
        "id": "EmUEkGMmr3u0"
      }
    },
    {
      "cell_type": "markdown",
      "source": [
        "**Q4. Explain the use of groupby( ) method in Pandas.**"
      ],
      "metadata": {
        "id": "gve9XC9Wqhfn"
      }
    },
    {
      "cell_type": "markdown",
      "source": [
        "The groupby( ) method is used for:-\n",
        "\n",
        "df.groupby('category_column') will split the DataFrame df into separate groups, where each group contains rows sharing the same value in 'category\\_column'. You can also group by multiple columns by passing a list, e.g., df.groupby(['column_A', 'column_B']).\n",
        "\n",
        "Once the DataFrame is split into groups, you can apply various operations to each group independently.\n",
        "\n",
        "Common operations include:\n",
        "Aggregation: Calculating summary statistics for each group, such as sum(), mean(), min(), max(), count(), median(), etc.\n",
        "\n",
        "After applying the desired function to each group, groupby() combines the results back into a single Series or DataFrame, depending on the operation performed. The resulting structure often has the group keys as its index."
      ],
      "metadata": {
        "id": "_fzKzNuysh3o"
      }
    },
    {
      "cell_type": "markdown",
      "source": [
        "**Q5. Why is Seaborn preferred for statistical visualizations?**"
      ],
      "metadata": {
        "id": "5ITO1HJCqvL2"
      }
    },
    {
      "cell_type": "markdown",
      "source": [
        "Seaborn is built on top of Matplotlib but offers a higher-level interface specifically designed for statistical plotting. This simplifies the creation of complex statistical visualizations like heatmaps, violin plots, and pair plots, requiring less code compared to Matplotlib for similar results. Seaborn seamlessly integrates statistical estimation and aggregation functions directly into its plotting functions. This enables users to visualize statistical relationships, distributions, and comparisons with built-in functionalities, such as plotting confidence intervals on bar plots or showing kernel density estimates.\n",
        "\n",
        "Seaborn offers a range of specialized plot types tailored for statistical analysis, including:\n",
        "1. Distribution plots: such as histplot, kdeplot, and displot for visualizing the distribution of a single variable.\n",
        "2. Relational plots: like scatterplot and lineplot for showing relationships between variables.\n",
        "3. Categorical plots: including boxplot, violinplot, swarmplot, and barplot for visualizing relationships between a categorical and a numerical variable."
      ],
      "metadata": {
        "id": "kLNerpNPrFT3"
      }
    },
    {
      "cell_type": "markdown",
      "source": [
        "**Q6. What are the difference between NumPy arrays and Python lists?**"
      ],
      "metadata": {
        "id": "VDWIjmzQuTaL"
      }
    },
    {
      "cell_type": "markdown",
      "source": [
        "  Arrays are primarily designed for numerical data, NumPy arrays are homogeneous, meaning all elements within an array must be of the same data type (e.g., all integers, all floats). This allows for efficient memory storage and optimized numerical operations. Whereas, Python lists are heterogeneous and can store elements of different data types (e.g., integers, strings, other lists) within the same list. This provides greater flexibility for general-purpose programming. NumPy arrays are more memory-efficient than Python lists for storing large collections of homogeneous data, as they store data in contiguous memory blocks. Whereas, Python lists can consume more memory due to the overhead associated with storing heterogeneous elements and their dynamic sizing.\n"
      ],
      "metadata": {
        "id": "38FnQjSkwmJe"
      }
    },
    {
      "cell_type": "markdown",
      "source": [
        "**Q7. What is a heatmap, and when it should be used?**"
      ],
      "metadata": {
        "id": "fxTQriNZvLra"
      }
    },
    {
      "cell_type": "markdown",
      "source": [
        "A heatmap is a data visualization tool that uses a color-coded system to show the magnitude or intensity of data, typically replacing numerical values with a spectrum of colors to highlight patterns, correlations, and variations in data.\n",
        "\n",
        "Heatmaps are used for:-\n",
        "\n",
        "* When we need to understand user interaction: To see how users interact with a web page, identify points of engagement or frustration, and optimize design for better user flow.\n",
        "\n",
        "* To reveal areas of high or low activity: Whether on a webpage, a geographic map, or a performance dashboard, a heatmap quickly shows where activity is concentrated.\n",
        "\n",
        "* To compare values across categories: In a matrix or grid format, heatmaps help compare the relationship between two variables, such as comparing daily precipitation across different months."
      ],
      "metadata": {
        "id": "0-v6NFNCx2_D"
      }
    },
    {
      "cell_type": "markdown",
      "source": [
        "**Q8. What does the term \"vectorized operation\" mean in NumPy?**"
      ],
      "metadata": {
        "id": "LE2vlXRHvuiA"
      }
    },
    {
      "cell_type": "markdown",
      "source": [
        "Vectorization refers to improving the performance of operations on data, particularly with large data sets, by executing a single operation on multiple data points simultaneously — a significant characteristic of array programming. It enables the use of efficient, pre-compiled functions and mathematical operations on NumPy arrays and data sequences. Vectorization is a method of performing array operations without the use of for loops."
      ],
      "metadata": {
        "id": "KejcCpDuyx5w"
      }
    },
    {
      "cell_type": "markdown",
      "source": [
        "**Q9. How does Matplotlib differ from Plotly?**"
      ],
      "metadata": {
        "id": "h3ioWTfDv_LU"
      }
    },
    {
      "cell_type": "markdown",
      "source": [
        "Matplotlib offers extensive control over every aspect of a plot, allowing for fine-grained customization. This level of control can be complex and require more coding effort for elaborate designs. Whereas, Plotly provides a more streamlined approach to creating aesthetically pleasing plots with less code, particularly with its Plotly Express API. While still offering customization, it prioritizes ease of use for common interactive chart types.\n",
        "\n",
        "Matplotlib is best suited for generating static figures for academic papers, presentations, or situations where high-level customization and precise control over visual elements are paramount.Whereas, Plotly is ideal for creating dynamic and engaging visualizations for web applications, interactive dashboards, and scenarios where data exploration and user interaction are key.\n",
        "\n",
        "Matplotlib offers deep customization for static visualizations, while Plotly prioritizes interactivity and ease of creation for web-based, dynamic plots."
      ],
      "metadata": {
        "id": "AN2rCKjdzLOq"
      }
    },
    {
      "cell_type": "markdown",
      "source": [
        "**Q10. What is the significance of hierarchical indexing in Pandas?**"
      ],
      "metadata": {
        "id": "nPEE_iyGwPsl"
      }
    },
    {
      "cell_type": "markdown",
      "source": [
        "Hierarchical indexing in Pandas, also called MultiIndex, enables sophisticated data analysis and manipulation by allowing you to store and access higher-dimensional data within lower-dimensional structures like DataFrames and Series. Its significance lies in its ability to preserve relationships between grouped data, facilitate complex queries, and optimize data retrieval by creating a more intuitive and efficient way to select data using multiple levels of indexing. It allows you to represent data with more than two or three keys in one-dimensional Series and two-dimensional DataFrames and keeps the relationships between different levels of data inseparable, ensuring that the indexes follow the data even when manipulated."
      ],
      "metadata": {
        "id": "kQBBAoNS0HVw"
      }
    },
    {
      "cell_type": "markdown",
      "source": [
        "**Q11. What is the role of Seaborn's pairplot( ) function?**"
      ],
      "metadata": {
        "id": "1Ujh254wdteb"
      }
    },
    {
      "cell_type": "markdown",
      "source": [
        "Seaborn's pairplot() function visualizes the pairwise relationships between multiple variables in a dataset by creating a grid of plots. On the diagonal, it displays the univariate distribution of each variable (like a histogram or KDE), while the off-diagonal plots are scatterplots showing the relationship between pairs of variables. This high-level function provides an easy way to perform initial exploratory data analysis, identify patterns, correlations, and outliers by creating a comprehensive visual summary in a single figure.  "
      ],
      "metadata": {
        "id": "qfdhkK05eUgH"
      }
    },
    {
      "cell_type": "markdown",
      "source": [
        "**Q12. What is the purpose of describe( ) function in Pandas?**"
      ],
      "metadata": {
        "id": "DEF6ZXWteiBp"
      }
    },
    {
      "cell_type": "markdown",
      "source": [
        "The describe() function in Pandas is used to generate a statistical summary of the data in a DataFrame or Series. It provides a quick overview of the central tendency, dispersion, and shape of the distribution of a dataset.\n",
        "\n",
        "For numerical data, describe() calculates:\n",
        "* count: The number of non-null observations.\n",
        "* mean: The average value.\n",
        "* std: The standard deviation, indicating the spread of the data.\n",
        "* min: The minimum value.\n",
        "* 25%: The 25th percentile (first quartile).\n",
        "* 50%: The 50th percentile (median).\n",
        "* 75%: The 75th percentile (third quartile).\n",
        "* max: The maximum value.\n",
        "\n",
        "For object (categorical) data, describe() calculates:\n",
        "* count: The number of non-null observations.\n",
        "* unique: The number of unique values.\n",
        "* top: The most frequent value.\n",
        "* freq: The frequency of the most frequent value."
      ],
      "metadata": {
        "id": "wH9EiqUTes53"
      }
    },
    {
      "cell_type": "markdown",
      "source": [
        "**Q13. Why is handling missing data important in Pandas?**"
      ],
      "metadata": {
        "id": "1IKGcUVAfWRP"
      }
    },
    {
      "cell_type": "markdown",
      "source": [
        "Handling missing data in Pandas is crucial for ensuring the accuracy, reliability, and effectiveness of data analysis and machine learning models.\n",
        "\n",
        "Missing values, often represented as NaN (Not a Number), can skew statistical calculations and lead to incorrect insights and conclusions. For example, calculating the mean of a column with missing values without proper handling can result in an inaccurate average. Many machine learning algorithms cannot directly process datasets containing missing values. Ignoring them can lead to errors during model training or result in biased models that perform poorly on new data. Even algorithms that can handle missing values might still experience reduced performance if the missing data is not addressed.\n",
        "\n",
        "Addressing missing data, either through removal or imputation, can help maintain or even increase the statistical power of an analysis by allowing the use of more data points and a wider range of statistical techniques."
      ],
      "metadata": {
        "id": "42664AvrfikK"
      }
    },
    {
      "cell_type": "markdown",
      "source": [
        "**Q14. What are the benifits of using plotly for data visualization?**"
      ],
      "metadata": {
        "id": "Dv9pbvvngEeD"
      }
    },
    {
      "cell_type": "markdown",
      "source": [
        "Plotly's benefits include creating beautiful, interactive visualizations like zoomable charts with tooltips, offering a wide variety of plot types for diverse data, and enabling easy customization of plots. It also supports multiple programming languages and environments, integrates well with data analysis tools, allows for exporting to various formats (including interactive HTML), and facilitates building dynamic, web-based data applications through its Dash framework.  \n",
        "\n",
        "Users can navigate through data by zooming in on specific areas or panning across the chart. Plotly allows you to add custom interactive features like sliders and buttons to your plots for greater data manipulation. Plotly visualizations can be viewed across various devices, including desktops, tablets, and smartphones.\n"
      ],
      "metadata": {
        "id": "A18DAXBygQeJ"
      }
    },
    {
      "cell_type": "markdown",
      "source": [
        "**Q15. How does NumPy handles multi-dimensional arrays?**"
      ],
      "metadata": {
        "id": "ckT-3LJJhATl"
      }
    },
    {
      "cell_type": "markdown",
      "source": [
        "NumPy handles multidimensional arrays through its core object, the ndarray (N-dimensional array). This object represents a homogeneous multidimensional array, meaning all elements within the array must be of the same data type.\n",
        "\n",
        "All elements within a ndarray must share the same data type (e.g., all integers, all floats). This homogeneity allows for efficient storage and computation. Multidimensional arrays are defined by their shape, which is a tuple of non-negative integers representing the size of each dimension (also called \"axes\"). For example, a 2D array (matrix) might have a shape of (rows, columns). NumPy provides powerful and flexible indexing and slicing mechanisms to access specific elements or subarrays within multidimensional arrays. This is achieved by providing indices for each dimension, or using slice objects (e.g., start:stop:step)."
      ],
      "metadata": {
        "id": "WnSTDe1NhKYj"
      }
    },
    {
      "cell_type": "markdown",
      "source": [
        "**Q16. What is the role of Bokeh in data visualization?**"
      ],
      "metadata": {
        "id": "tCm1Je61iHXr"
      }
    },
    {
      "cell_type": "markdown",
      "source": [
        "Bokeh is a powerful Python library designed for interactive and modern data visualization.\n",
        "It allows users to create plots, dashboards, and web applications that can handle large datasets.\n",
        "One key role of Bokeh is that it provides browser-based visualization using JavaScript without requiring the user to code in JavaScript directly.\n",
        "It is especially useful for real-time streaming data and interactive dashboards.\n",
        "Bokeh supports a variety of charts like line, bar, scatter, heatmaps, and more.\n",
        "It is highly customizable, allowing users to add widgets like sliders, dropdowns, and buttons.\n",
        "Bokeh integrates well with Pandas, NumPy, and streaming data sources.\n",
        "It can also output results in multiple formats such as HTML, notebooks, and server-based apps.\n",
        "Its interactive features, like zooming, panning, and hovering, make analysis more engaging.\n",
        "Thus, Bokeh plays the role of making large and complex data understandable through interactive visualizations."
      ],
      "metadata": {
        "id": "RXThS9-aj8zY"
      }
    },
    {
      "cell_type": "markdown",
      "source": [
        "**Q17. Explain the difference between apply() and map() in Pandas.**"
      ],
      "metadata": {
        "id": "f9dq1IfRiJUW"
      }
    },
    {
      "cell_type": "markdown",
      "source": [
        "Both apply() and map() are used to transform data in Pandas, but they work differently.\n",
        "The map() function is mainly used with a Pandas Series (single column) to apply a function element-wise.\n",
        "For example, it can be used to transform each value using a lambda function or dictionary mapping.\n",
        "The apply() function, on the other hand, works with both DataFrame and Series.\n",
        "When used with a DataFrame, apply() can apply a function along either rows or columns.\n",
        "This makes apply() more flexible, as it can handle complex operations involving multiple columns.\n",
        "map() is faster and simpler when dealing with one-dimensional data.\n",
        "But apply() is more powerful when working with multi-dimensional datasets.\n",
        "In summary, map() is for element-wise transformations, while apply() is for row-wise or column-wise transformations.\n",
        "Therefore, the main difference lies in their scope and flexibility of operation."
      ],
      "metadata": {
        "id": "BnboJIgskC3u"
      }
    },
    {
      "cell_type": "markdown",
      "source": [
        "**Q18. What are some advanced features of NumPy?**"
      ],
      "metadata": {
        "id": "iMkwW2xQiLmi"
      }
    },
    {
      "cell_type": "markdown",
      "source": [
        "NumPy is a fundamental Python library for numerical and scientific computing.\n",
        "One advanced feature is its support for multi-dimensional arrays (ndarrays) that allow efficient storage and manipulation of large datasets.\n",
        "It provides advanced broadcasting rules, which allow operations on arrays of different shapes without writing explicit loops.\n",
        "NumPy supports vectorization, making computations much faster than Python loops.\n",
        "It integrates with C, C++, and Fortran code, enabling high-performance computing.\n",
        "NumPy offers powerful linear algebra functions, Fourier transforms, and random number generation.\n",
        "It also supports masked arrays and structured arrays for handling complex data types.\n",
        "Another advanced feature is memory mapping, which allows working with datasets too large to fit into memory.\n",
        "NumPy underpins other libraries like Pandas, SciPy, and scikit-learn, making it the backbone of data science.\n",
        "Thus, its advanced features make it essential for efficient numerical computation and large-scale data analysis."
      ],
      "metadata": {
        "id": "POvIPZXZkI5j"
      }
    },
    {
      "cell_type": "markdown",
      "source": [
        "**Q19. How does Pandas simplify time series analysis?**"
      ],
      "metadata": {
        "id": "TMrbf2ZciXjs"
      }
    },
    {
      "cell_type": "markdown",
      "source": [
        "Pandas has built-in support for time series data, which makes analysis easier.\n",
        "It provides specialized data types like DatetimeIndex and PeriodIndex for handling dates and times.\n",
        "Pandas allows easy date parsing, resampling, shifting, and frequency conversion.\n",
        "For example, you can quickly resample daily data to monthly averages with a single function call.\n",
        "It also supports time-based indexing, which allows filtering data by year, month, or even exact time stamps.\n",
        "Rolling window functions, like moving averages, are also built-in.\n",
        "Users can perform lag analysis and easily compare different time periods.\n",
        "Timezone handling and conversion between different time zones is supported.\n",
        "Integration with visualization libraries allows easy plotting of time series data.\n",
        "Overall, Pandas simplifies time series analysis by providing a rich set of tools for date/time manipulation, resampling, and statistical analysis."
      ],
      "metadata": {
        "id": "wuTxYpbfkO9q"
      }
    },
    {
      "cell_type": "markdown",
      "source": [
        "**Q20. What is the role of a pivot table in Pandas?**"
      ],
      "metadata": {
        "id": "TrI5owEbigq_"
      }
    },
    {
      "cell_type": "markdown",
      "source": [
        "A pivot table in Pandas is used to summarize and analyze data in a structured format.\n",
        "It helps in transforming long data into a tabular, cross-tabulated format.\n",
        "With pivot tables, you can group data based on categories and apply aggregation functions like mean, sum, or count.\n",
        "This allows quick identification of trends, patterns, and relationships in the dataset.\n",
        "It is especially useful for business reporting, sales analysis, and data summarization.\n",
        "For example, you can find total sales by region and product category in a few lines of code.\n",
        "Pivot tables also support hierarchical indexing for multi-level analysis.\n",
        "They reduce the complexity of writing long groupby queries.\n",
        "They can be easily converted into Excel-style pivot tables for reporting.\n",
        "Thus, pivot tables play the role of efficient data summarization and quick insight generation in Pandas."
      ],
      "metadata": {
        "id": "sXM36q7XkYmo"
      }
    },
    {
      "cell_type": "markdown",
      "source": [
        "**Q21. Why is NumPy's array slicing faster than Python’s list slicing?**"
      ],
      "metadata": {
        "id": "PKNSAqL5iiPX"
      }
    },
    {
      "cell_type": "markdown",
      "source": [
        "NumPy arrays are implemented in C and optimized for performance, while Python lists are general-purpose.\n",
        "NumPy arrays store elements in contiguous memory blocks, making slicing operations very efficient.\n",
        "On the other hand, Python lists are objects that store references to elements scattered across memory.\n",
        "This difference in memory structure makes NumPy slicing much faster.\n",
        "NumPy uses vectorized operations that avoid explicit Python loops, reducing overhead.\n",
        "It returns a view of the original array (when possible), not a new copy, which saves time and memory.\n",
        "Python lists, in contrast, always create a new list when sliced.\n",
        "NumPy also leverages low-level optimizations and CPU instructions for array operations.\n",
        "Because of this, NumPy slicing is closer to hardware-level operations.\n",
        "Thus, NumPy's array slicing is faster due to contiguous memory, vectorization, and memory-efficient views."
      ],
      "metadata": {
        "id": "VNYRPlg5kfRO"
      }
    },
    {
      "cell_type": "markdown",
      "source": [
        "**Q22. What are some common use cases for Seaborn?**"
      ],
      "metadata": {
        "id": "NVbf4UookiKs"
      }
    },
    {
      "cell_type": "markdown",
      "source": [
        "Seaborn is a statistical data visualization library built on top of Matplotlib.\n",
        "It is widely used to create attractive and informative visualizations with minimal code.\n",
        "One common use case is for exploring relationships between variables using scatter plots, regression plots, or pair plots.\n",
        "Seaborn is excellent for visualizing categorical data using bar plots, count plots, and box plots.\n",
        "It also supports distribution analysis through histograms, KDE plots, and rug plots.\n",
        "Heatmaps in Seaborn are useful for correlation analysis and matrix data visualization.\n",
        "It integrates seamlessly with Pandas DataFrames, making it easy to work directly with structured datasets.\n",
        "Seaborn is also used for visualizing time series and trends in data.\n",
        "It comes with built-in themes and color palettes, making charts look more professional.\n",
        "Thus, common use cases of Seaborn include exploratory data analysis, statistical visualization, and correlation analysis."
      ],
      "metadata": {
        "id": "DUv-CmPeklIv"
      }
    },
    {
      "cell_type": "markdown",
      "source": [
        "***PRACTICAL QUESTIONS***"
      ],
      "metadata": {
        "id": "wyaILxS6-zi_"
      }
    },
    {
      "cell_type": "markdown",
      "source": [
        "**Q1. How do you create a 2-D NumPy Array and calculate the sum of each row?**"
      ],
      "metadata": {
        "id": "4DXOFlMv-wTm"
      }
    },
    {
      "cell_type": "code",
      "source": [
        "import numpy as np\n",
        "\n",
        "array=np.array([\n",
        "       [2,4,3,6],\n",
        "       [3,8,5,7],\n",
        "       [7,3,5,2]\n",
        "    ])\n",
        "\n",
        "print(\"ARRAY-\",array)\n",
        "\n",
        "sum_of_each_row=np.sum(array,axis=1)\n",
        "\n",
        "print(\"Sum of each row of array=\",sum_of_each_row)"
      ],
      "metadata": {
        "colab": {
          "base_uri": "https://localhost:8080/"
        },
        "id": "08XMRNNS_LT4",
        "outputId": "844fdaa5-d616-42bc-9d73-a939f658af6e"
      },
      "execution_count": null,
      "outputs": [
        {
          "output_type": "stream",
          "name": "stdout",
          "text": [
            "ARRAY- [[2 4 3 6]\n",
            " [3 8 5 7]\n",
            " [7 3 5 2]]\n",
            "Sum of each row of array= [15 23 17]\n"
          ]
        }
      ]
    },
    {
      "cell_type": "markdown",
      "source": [
        "**Q2. Write a Pandas script to find the mean of the specific column in a DataFrame.**"
      ],
      "metadata": {
        "id": "c6x9a8idBc8B"
      }
    },
    {
      "cell_type": "code",
      "source": [
        "import pandas as pd\n",
        "\n",
        "df = pd.DataFrame({\"A\": [10, 20, 30], \"B\": [5, 15, 25]})\n",
        "mean_A = df[\"A\"].mean()\n",
        "print(mean_A)\n"
      ],
      "metadata": {
        "id": "W_MZtUfBCnBs",
        "colab": {
          "base_uri": "https://localhost:8080/"
        },
        "outputId": "67bfa194-bbe3-4bcd-fa9b-cfca1f292ab5"
      },
      "execution_count": null,
      "outputs": [
        {
          "output_type": "stream",
          "name": "stdout",
          "text": [
            "20.0\n"
          ]
        }
      ]
    },
    {
      "cell_type": "markdown",
      "source": [
        "**Q3. Create a scaterplot using Matplotlib?**"
      ],
      "metadata": {
        "id": "RO9PaS8QDhwL"
      }
    },
    {
      "cell_type": "code",
      "source": [
        "import matplotlib.pyplot as plt\n",
        "\n",
        "x = [1,2.4,2.6,3.9,3.9,4,4.2,5,8,5.4,7.7]\n",
        "y = [2,9.6,4.4,6,9.5,8,3.3,4,6,3.6,11.1]\n",
        "\n",
        "plt.scatter(x, y)\n",
        "plt.xlabel(\"X-axis\")\n",
        "plt.ylabel(\"Y-axis\")\n",
        "plt.title(\"Scatter Plot\")\n",
        "plt.show()\n"
      ],
      "metadata": {
        "id": "Dr5CDjETDAYx",
        "colab": {
          "base_uri": "https://localhost:8080/",
          "height": 472
        },
        "outputId": "77b48022-7797-4f29-f4bc-747dfe12875c"
      },
      "execution_count": 7,
      "outputs": [
        {
          "output_type": "display_data",
          "data": {
            "text/plain": [
              "<Figure size 640x480 with 1 Axes>"
            ],
            "image/png": "[encoded data removed]"
          },
          "metadata": {}
        }
      ]
    },
    {
      "cell_type": "markdown",
      "source": [
        "**Q4. How do you calculate the correlation matrix using seaborn and vizualize it with the heatmap?**"
      ],
      "metadata": {
        "id": "zGvZtGG18eo9"
      }
    },
    {
      "cell_type": "code",
      "source": [
        "import seaborn as sns\n",
        "import pandas as pd\n",
        "\n",
        "df = pd.DataFrame({\"A\":[1,2,3,4], \"B\":[2,4,6,8], \"C\":[5,7,9,11]})\n",
        "corr = df.corr()\n",
        "\n",
        "sns.heatmap(corr, annot=True, cmap=\"coolwarm\")\n"
      ],
      "metadata": {
        "id": "X1VCA0ToDCHD",
        "colab": {
          "base_uri": "https://localhost:8080/",
          "height": 452
        },
        "outputId": "eb03551f-2a48-42a1-fad0-7bf2756caa3a"
      },
      "execution_count": null,
      "outputs": [
        {
          "output_type": "execute_result",
          "data": {
            "text/plain": [
              "<Axes: >"
            ]
          },
          "metadata": {},
          "execution_count": 4
        },
        {
          "output_type": "display_data",
          "data": {
            "text/plain": [
              "<Figure size 640x480 with 2 Axes>"
            ],
            "image/png": "[encoded data removed]"
          },
          "metadata": {}
        }
      ]
    },
    {
      "cell_type": "markdown",
      "source": [
        "**Q5. Generate a bar plot using Plotly?**"
      ],
      "metadata": {
        "id": "rQnJ0dl09Bgv"
      }
    },
    {
      "cell_type": "code",
      "source": [
        "import plotly.express as px\n",
        "\n",
        "data = {\"Fruit\":[\"Apple\",\"Banana\",\"Orange\"], \"Quantity\":[10,20,15]}\n",
        "fig = px.bar(data, x=\"Fruit\", y=\"Quantity\", title=\"Bar Plot\")\n",
        "fig.show()\n"
      ],
      "metadata": {
        "id": "0V-mhNmBDEzG",
        "colab": {
          "base_uri": "https://localhost:8080/",
          "height": 542
        },
        "outputId": "5cf42387-f7dd-4ad6-ae0e-4e2d584b1904"
      },
      "execution_count": 8,
      "outputs": [
        {
          "output_type": "display_data",
          "data": {
            "text/html": [
              "<html>\n",
              "<head><meta charset=\"utf-8\" /></head>\n",
              "<body>\n",
              "    <div>            <script src=\"https://cdnjs.cloudflare.com/ajax/libs/mathjax/2.7.5/MathJax.js?config=TeX-AMS-MML_SVG\"></script><script type=\"text/javascript\">if (window.MathJax && window.MathJax.Hub && window.MathJax.Hub.Config) {window.MathJax.Hub.Config({SVG: {font: \"STIX-Web\"}});}</script>                <script type=\"text/javascript\">window.PlotlyConfig = {MathJaxConfig: 'local'};</script>\n",
              "        <script charset=\"utf-8\" src=\"https://cdn.plot.ly/plotly-2.35.2.min.js\"></script>                <div id=\"56e26a9f-8813-4e30-b4d6-6d5651336126\" class=\"plotly-graph-div\" style=\"height:525px; width:100%;\"></div>            <script type=\"text/javascript\">                                    window.PLOTLYENV=window.PLOTLYENV || {};                                    if (document.getElementById(\"56e26a9f-8813-4e30-b4d6-6d5651336126\")) {                    Plotly.newPlot(                        \"56e26a9f-8813-4e30-b4d6-6d5651336126\",                        [{\"alignmentgroup\":\"True\",\"hovertemplate\":\"Fruit=%{x}\\u003cbr\\u003eQuantity=%{y}\\u003cextra\\u003e\\u003c\\u002fextra\\u003e\",\"legendgroup\":\"\",\"marker\":{\"color\":\"#636efa\",\"pattern\":{\"shape\":\"\"}},\"name\":\"\",\"offsetgroup\":\"\",\"orientation\":\"v\",\"showlegend\":false,\"textposition\":\"auto\",\"x\":[\"Apple\",\"Banana\",\"Orange\"],\"xaxis\":\"x\",\"y\":[10,20,15],\"yaxis\":\"y\",\"type\":\"bar\"}],                        {\"template\":{\"data\":{\"histogram2dcontour\":[{\"type\":\"histogram2dcontour\",\"colorbar\":{\"outlinewidth\":0,\"ticks\":\"\"},\"colorscale\":[[0.0,\"#0d0887\"],[0.1111111111111111,\"#46039f\"],[0.2222222222222222,\"#7201a8\"],[0.3333333333333333,\"#9c179e\"],[0.4444444444444444,\"#bd3786\"],[0.5555555555555556,\"#d8576b\"],[0.6666666666666666,\"#ed7953\"],[0.7777777777777778,\"#fb9f3a\"],[0.8888888888888888,\"#fdca26\"],[1.0,\"#f0f921\"]]}],\"choropleth\":[{\"type\":\"choropleth\",\"colorbar\":{\"outlinewidth\":0,\"ticks\":\"\"}}],\"histogram2d\":[{\"type\":\"histogram2d\",\"colorbar\":{\"outlinewidth\":0,\"ticks\":\"\"},\"colorscale\":[[0.0,\"#0d0887\"],[0.1111111111111111,\"#46039f\"],[0.2222222222222222,\"#7201a8\"],[0.3333333333333333,\"#9c179e\"],[0.4444444444444444,\"#bd3786\"],[0.5555555555555556,\"#d8576b\"],[0.6666666666666666,\"#ed7953\"],[0.7777777777777778,\"#fb9f3a\"],[0.8888888888888888,\"#fdca26\"],[1.0,\"#f0f921\"]]}],\"heatmap\":[{\"type\":\"heatmap\",\"colorbar\":{\"outlinewidth\":0,\"ticks\":\"\"},\"colorscale\":[[0.0,\"#0d0887\"],[0.1111111111111111,\"#46039f\"],[0.2222222222222222,\"#7201a8\"],[0.3333333333333333,\"#9c179e\"],[0.4444444444444444,\"#bd3786\"],[0.5555555555555556,\"#d8576b\"],[0.6666666666666666,\"#ed7953\"],[0.7777777777777778,\"#fb9f3a\"],[0.8888888888888888,\"#fdca26\"],[1.0,\"#f0f921\"]]}],\"heatmapgl\":[{\"type\":\"heatmapgl\",\"colorbar\":{\"outlinewidth\":0,\"ticks\":\"\"},\"colorscale\":[[0.0,\"#0d0887\"],[0.1111111111111111,\"#46039f\"],[0.2222222222222222,\"#7201a8\"],[0.3333333333333333,\"#9c179e\"],[0.4444444444444444,\"#bd3786\"],[0.5555555555555556,\"#d8576b\"],[0.6666666666666666,\"#ed7953\"],[0.7777777777777778,\"#fb9f3a\"],[0.8888888888888888,\"#fdca26\"],[1.0,\"#f0f921\"]]}],\"contourcarpet\":[{\"type\":\"contourcarpet\",\"colorbar\":{\"outlinewidth\":0,\"ticks\":\"\"}}],\"contour\":[{\"type\":\"contour\",\"colorbar\":{\"outlinewidth\":0,\"ticks\":\"\"},\"colorscale\":[[0.0,\"#0d0887\"],[0.1111111111111111,\"#46039f\"],[0.2222222222222222,\"#7201a8\"],[0.3333333333333333,\"#9c179e\"],[0.4444444444444444,\"#bd3786\"],[0.5555555555555556,\"#d8576b\"],[0.6666666666666666,\"#ed7953\"],[0.7777777777777778,\"#fb9f3a\"],[0.8888888888888888,\"#fdca26\"],[1.0,\"#f0f921\"]]}],\"surface\":[{\"type\":\"surface\",\"colorbar\":{\"outlinewidth\":0,\"ticks\":\"\"},\"colorscale\":[[0.0,\"#0d0887\"],[0.1111111111111111,\"#46039f\"],[0.2222222222222222,\"#7201a8\"],[0.3333333333333333,\"#9c179e\"],[0.4444444444444444,\"#bd3786\"],[0.5555555555555556,\"#d8576b\"],[0.6666666666666666,\"#ed7953\"],[0.7777777777777778,\"#fb9f3a\"],[0.8888888888888888,\"#fdca26\"],[1.0,\"#f0f921\"]]}],\"mesh3d\":[{\"type\":\"mesh3d\",\"colorbar\":{\"outlinewidth\":0,\"ticks\":\"\"}}],\"scatter\":[{\"fillpattern\":{\"fillmode\":\"overlay\",\"size\":10,\"solidity\":0.2},\"type\":\"scatter\"}],\"parcoords\":[{\"type\":\"parcoords\",\"line\":{\"colorbar\":{\"outlinewidth\":0,\"ticks\":\"\"}}}],\"scatterpolargl\":[{\"type\":\"scatterpolargl\",\"marker\":{\"colorbar\":{\"outlinewidth\":0,\"ticks\":\"\"}}}],\"bar\":[{\"error_x\":{\"color\":\"#2a3f5f\"},\"error_y\":{\"color\":\"#2a3f5f\"},\"marker\":{\"line\":{\"color\":\"#E5ECF6\",\"width\":0.5},\"pattern\":{\"fillmode\":\"overlay\",\"size\":10,\"solidity\":0.2}},\"type\":\"bar\"}],\"scattergeo\":[{\"type\":\"scattergeo\",\"marker\":{\"colorbar\":{\"outlinewidth\":0,\"ticks\":\"\"}}}],\"scatterpolar\":[{\"type\":\"scatterpolar\",\"marker\":{\"colorbar\":{\"outlinewidth\":0,\"ticks\":\"\"}}}],\"histogram\":[{\"marker\":{\"pattern\":{\"fillmode\":\"overlay\",\"size\":10,\"solidity\":0.2}},\"type\":\"histogram\"}],\"scattergl\":[{\"type\":\"scattergl\",\"marker\":{\"colorbar\":{\"outlinewidth\":0,\"ticks\":\"\"}}}],\"scatter3d\":[{\"type\":\"scatter3d\",\"line\":{\"colorbar\":{\"outlinewidth\":0,\"ticks\":\"\"}},\"marker\":{\"colorbar\":{\"outlinewidth\":0,\"ticks\":\"\"}}}],\"scattermapbox\":[{\"type\":\"scattermapbox\",\"marker\":{\"colorbar\":{\"outlinewidth\":0,\"ticks\":\"\"}}}],\"scatterternary\":[{\"type\":\"scatterternary\",\"marker\":{\"colorbar\":{\"outlinewidth\":0,\"ticks\":\"\"}}}],\"scattercarpet\":[{\"type\":\"scattercarpet\",\"marker\":{\"colorbar\":{\"outlinewidth\":0,\"ticks\":\"\"}}}],\"carpet\":[{\"aaxis\":{\"endlinecolor\":\"#2a3f5f\",\"gridcolor\":\"white\",\"linecolor\":\"white\",\"minorgridcolor\":\"white\",\"startlinecolor\":\"#2a3f5f\"},\"baxis\":{\"endlinecolor\":\"#2a3f5f\",\"gridcolor\":\"white\",\"linecolor\":\"white\",\"minorgridcolor\":\"white\",\"startlinecolor\":\"#2a3f5f\"},\"type\":\"carpet\"}],\"table\":[{\"cells\":{\"fill\":{\"color\":\"#EBF0F8\"},\"line\":{\"color\":\"white\"}},\"header\":{\"fill\":{\"color\":\"#C8D4E3\"},\"line\":{\"color\":\"white\"}},\"type\":\"table\"}],\"barpolar\":[{\"marker\":{\"line\":{\"color\":\"#E5ECF6\",\"width\":0.5},\"pattern\":{\"fillmode\":\"overlay\",\"size\":10,\"solidity\":0.2}},\"type\":\"barpolar\"}],\"pie\":[{\"automargin\":true,\"type\":\"pie\"}]},\"layout\":{\"autotypenumbers\":\"strict\",\"colorway\":[\"#636efa\",\"#EF553B\",\"#00cc96\",\"#ab63fa\",\"#FFA15A\",\"#19d3f3\",\"#FF6692\",\"#B6E880\",\"#FF97FF\",\"#FECB52\"],\"font\":{\"color\":\"#2a3f5f\"},\"hovermode\":\"closest\",\"hoverlabel\":{\"align\":\"left\"},\"paper_bgcolor\":\"white\",\"plot_bgcolor\":\"#E5ECF6\",\"polar\":{\"bgcolor\":\"#E5ECF6\",\"angularaxis\":{\"gridcolor\":\"white\",\"linecolor\":\"white\",\"ticks\":\"\"},\"radialaxis\":{\"gridcolor\":\"white\",\"linecolor\":\"white\",\"ticks\":\"\"}},\"ternary\":{\"bgcolor\":\"#E5ECF6\",\"aaxis\":{\"gridcolor\":\"white\",\"linecolor\":\"white\",\"ticks\":\"\"},\"baxis\":{\"gridcolor\":\"white\",\"linecolor\":\"white\",\"ticks\":\"\"},\"caxis\":{\"gridcolor\":\"white\",\"linecolor\":\"white\",\"ticks\":\"\"}},\"coloraxis\":{\"colorbar\":{\"outlinewidth\":0,\"ticks\":\"\"}},\"colorscale\":{\"sequential\":[[0.0,\"#0d0887\"],[0.1111111111111111,\"#46039f\"],[0.2222222222222222,\"#7201a8\"],[0.3333333333333333,\"#9c179e\"],[0.4444444444444444,\"#bd3786\"],[0.5555555555555556,\"#d8576b\"],[0.6666666666666666,\"#ed7953\"],[0.7777777777777778,\"#fb9f3a\"],[0.8888888888888888,\"#fdca26\"],[1.0,\"#f0f921\"]],\"sequentialminus\":[[0.0,\"#0d0887\"],[0.1111111111111111,\"#46039f\"],[0.2222222222222222,\"#7201a8\"],[0.3333333333333333,\"#9c179e\"],[0.4444444444444444,\"#bd3786\"],[0.5555555555555556,\"#d8576b\"],[0.6666666666666666,\"#ed7953\"],[0.7777777777777778,\"#fb9f3a\"],[0.8888888888888888,\"#fdca26\"],[1.0,\"#f0f921\"]],\"diverging\":[[0,\"#8e0152\"],[0.1,\"#c51b7d\"],[0.2,\"#de77ae\"],[0.3,\"#f1b6da\"],[0.4,\"#fde0ef\"],[0.5,\"#f7f7f7\"],[0.6,\"#e6f5d0\"],[0.7,\"#b8e186\"],[0.8,\"#7fbc41\"],[0.9,\"#4d9221\"],[1,\"#276419\"]]},\"xaxis\":{\"gridcolor\":\"white\",\"linecolor\":\"white\",\"ticks\":\"\",\"title\":{\"standoff\":15},\"zerolinecolor\":\"white\",\"automargin\":true,\"zerolinewidth\":2},\"yaxis\":{\"gridcolor\":\"white\",\"linecolor\":\"white\",\"ticks\":\"\",\"title\":{\"standoff\":15},\"zerolinecolor\":\"white\",\"automargin\":true,\"zerolinewidth\":2},\"scene\":{\"xaxis\":{\"backgroundcolor\":\"#E5ECF6\",\"gridcolor\":\"white\",\"linecolor\":\"white\",\"showbackground\":true,\"ticks\":\"\",\"zerolinecolor\":\"white\",\"gridwidth\":2},\"yaxis\":{\"backgroundcolor\":\"#E5ECF6\",\"gridcolor\":\"white\",\"linecolor\":\"white\",\"showbackground\":true,\"ticks\":\"\",\"zerolinecolor\":\"white\",\"gridwidth\":2},\"zaxis\":{\"backgroundcolor\":\"#E5ECF6\",\"gridcolor\":\"white\",\"linecolor\":\"white\",\"showbackground\":true,\"ticks\":\"\",\"zerolinecolor\":\"white\",\"gridwidth\":2}},\"shapedefaults\":{\"line\":{\"color\":\"#2a3f5f\"}},\"annotationdefaults\":{\"arrowcolor\":\"#2a3f5f\",\"arrowhead\":0,\"arrowwidth\":1},\"geo\":{\"bgcolor\":\"white\",\"landcolor\":\"#E5ECF6\",\"subunitcolor\":\"white\",\"showland\":true,\"showlakes\":true,\"lakecolor\":\"white\"},\"title\":{\"x\":0.05},\"mapbox\":{\"style\":\"light\"}}},\"xaxis\":{\"anchor\":\"y\",\"domain\":[0.0,1.0],\"title\":{\"text\":\"Fruit\"}},\"yaxis\":{\"anchor\":\"x\",\"domain\":[0.0,1.0],\"title\":{\"text\":\"Quantity\"}},\"legend\":{\"tracegroupgap\":0},\"title\":{\"text\":\"Bar Plot\"},\"barmode\":\"relative\"},                        {\"responsive\": true}                    ).then(function(){\n",
              "                            \n",
              "var gd = document.getElementById('56e26a9f-8813-4e30-b4d6-6d5651336126');\n",
              "var x = new MutationObserver(function (mutations, observer) {{\n",
              "        var display = window.getComputedStyle(gd).display;\n",
              "        if (!display || display === 'none') {{\n",
              "            console.log([gd, 'removed!']);\n",
              "            Plotly.purge(gd);\n",
              "            observer.disconnect();\n",
              "        }}\n",
              "}});\n",
              "\n",
              "// Listen for the removal of the full notebook cells\n",
              "var notebookContainer = gd.closest('#notebook-container');\n",
              "if (notebookContainer) {{\n",
              "    x.observe(notebookContainer, {childList: true});\n",
              "}}\n",
              "\n",
              "// Listen for the clearing of the current output cell\n",
              "var outputEl = gd.closest('.output');\n",
              "if (outputEl) {{\n",
              "    x.observe(outputEl, {childList: true});\n",
              "}}\n",
              "\n",
              "                        })                };                            </script>        </div>\n",
              "</body>\n",
              "</html>"
            ]
          },
          "metadata": {}
        }
      ]
    },
    {
      "cell_type": "markdown",
      "source": [
        "**Q6. Create a Dataframe and add a new column based on an existing column.**"
      ],
      "metadata": {
        "id": "zZ9kJSQ19RfA"
      }
    },
    {
      "cell_type": "code",
      "source": [
        "import pandas as pd\n",
        "\n",
        "df = pd.DataFrame({\"A\":[1,2,3], \"B\":[4,5,6]})\n",
        "df[\"C\"] = df[\"A\"] + df[\"B\"]\n",
        "print(df)\n"
      ],
      "metadata": {
        "id": "jqT_SOToDHIh",
        "colab": {
          "base_uri": "https://localhost:8080/"
        },
        "outputId": "5e9c2100-c6f1-49b0-a1e1-b2ffdfb855b5"
      },
      "execution_count": 9,
      "outputs": [
        {
          "output_type": "stream",
          "name": "stdout",
          "text": [
            "   A  B  C\n",
            "0  1  4  5\n",
            "1  2  5  7\n",
            "2  3  6  9\n"
          ]
        }
      ]
    },
    {
      "cell_type": "markdown",
      "source": [
        "**Q7. Write a program to perform element-wise multiplication of two NumPy array.**"
      ],
      "metadata": {
        "id": "5xKHn1yF9jDC"
      }
    },
    {
      "cell_type": "code",
      "source": [
        "import numpy as np\n",
        "\n",
        "a = np.array([1,2,3])\n",
        "b = np.array([4,5,6])\n",
        "result = a * b\n",
        "print(\"Multiplication =\",result)\n"
      ],
      "metadata": {
        "id": "nV3HY2TnDJnU",
        "colab": {
          "base_uri": "https://localhost:8080/"
        },
        "outputId": "5d8d3d3c-795c-4c3c-d8b9-45ed878e814f"
      },
      "execution_count": 12,
      "outputs": [
        {
          "output_type": "stream",
          "name": "stdout",
          "text": [
            "Multiplication = [ 4 10 18]\n"
          ]
        }
      ]
    },
    {
      "cell_type": "markdown",
      "source": [
        "**Q8. Create a line plot with multiple lines using matplotlib.**"
      ],
      "metadata": {
        "id": "Up1wMMjn93B0"
      }
    },
    {
      "cell_type": "code",
      "source": [
        "import matplotlib.pyplot as plt\n",
        "\n",
        "x = [1,2,3,4,5]\n",
        "y1 = [1,2,3,4,5]\n",
        "y2 = [2,4,6,8,10]\n",
        "\n",
        "plt.plot(x, y1, label=\"Line 1\")\n",
        "plt.plot(x, y2, label=\"Line 2\")\n",
        "plt.legend()\n",
        "plt.show()\n"
      ],
      "metadata": {
        "id": "qAZMamZiDMTb",
        "colab": {
          "base_uri": "https://localhost:8080/",
          "height": 430
        },
        "outputId": "a1438ba6-41df-4856-ae33-2a006ffa8468"
      },
      "execution_count": 13,
      "outputs": [
        {
          "output_type": "display_data",
          "data": {
            "text/plain": [
              "<Figure size 640x480 with 1 Axes>"
            ],
            "image/png": "[encoded data removed]"
          },
          "metadata": {}
        }
      ]
    },
    {
      "cell_type": "markdown",
      "source": [
        "**Q9. Generate a Pandas dataframe and filter rows where a column value is greater than a threshol.**"
      ],
      "metadata": {
        "id": "zkPBy-XK-AdR"
      }
    },
    {
      "cell_type": "code",
      "source": [
        "import pandas as pd\n",
        "\n",
        "df = pd.DataFrame({\"A\":[1,2,3,4,5], \"B\":[10,20,30,40,50]})\n",
        "print(\"Original\\n\",df)\n",
        "filtered = df[df[\"B\"] > 25]\n",
        "print(\"Filtered\\n\",filtered)\n"
      ],
      "metadata": {
        "id": "gCMvLOtqDPXu",
        "colab": {
          "base_uri": "https://localhost:8080/"
        },
        "outputId": "b5a91927-7386-4fac-c0f8-df3215cc6ba8"
      },
      "execution_count": 15,
      "outputs": [
        {
          "output_type": "stream",
          "name": "stdout",
          "text": [
            "Original\n",
            "    A   B\n",
            "0  1  10\n",
            "1  2  20\n",
            "2  3  30\n",
            "3  4  40\n",
            "4  5  50\n",
            "Filtered\n",
            "    A   B\n",
            "2  3  30\n",
            "3  4  40\n",
            "4  5  50\n"
          ]
        }
      ]
    },
    {
      "cell_type": "markdown",
      "source": [
        "**Q10. Create a histogram using seaborn to visualize a distribution.**"
      ],
      "metadata": {
        "id": "ygg_aB7L-WRW"
      }
    },
    {
      "cell_type": "code",
      "source": [
        "import seaborn as sns\n",
        "\n",
        "data = [1,2,2,3,3,3,4,4,5,5,5,5]\n",
        "sns.histplot(data, bins=5, kde=True)\n"
      ],
      "metadata": {
        "id": "jX2NtmLEDSjY",
        "colab": {
          "base_uri": "https://localhost:8080/",
          "height": 447
        },
        "outputId": "3ecd309c-c341-4e04-8136-4b52b125e4c9"
      },
      "execution_count": 16,
      "outputs": [
        {
          "output_type": "execute_result",
          "data": {
            "text/plain": [
              "<Axes: ylabel='Count'>"
            ]
          },
          "metadata": {},
          "execution_count": 16
        },
        {
          "output_type": "display_data",
          "data": {
            "text/plain": [
              "<Figure size 640x480 with 1 Axes>"
            ],
            "image/png": "[encoded data removed]"
          },
          "metadata": {}
        }
      ]
    },
    {
      "cell_type": "markdown",
      "source": [
        "**Q11. Perform matrix multiplication using NumPy.**"
      ],
      "metadata": {
        "id": "zWnqjk3-AI_M"
      }
    },
    {
      "cell_type": "code",
      "source": [
        "import numpy as np\n",
        "\n",
        "a = np.array([[1,2],[3,4]])\n",
        "b = np.array([[5,6],[7,8]])\n",
        "result = np.dot(a, b)\n",
        "print(\"Matrix Multiplication =\\n\",result)\n"
      ],
      "metadata": {
        "colab": {
          "base_uri": "https://localhost:8080/"
        },
        "id": "Sbnpe3jpABz3",
        "outputId": "1433aa37-d518-48a6-b886-5d9ced1af869"
      },
      "execution_count": 19,
      "outputs": [
        {
          "output_type": "stream",
          "name": "stdout",
          "text": [
            "Matrix Multiplication =\n",
            " [[19 22]\n",
            " [43 50]]\n"
          ]
        }
      ]
    },
    {
      "cell_type": "markdown",
      "source": [
        "**Q12. Use Pandas to load a csv file and display its first five rows.**"
      ],
      "metadata": {
        "id": "7l_YI8lEATgN"
      }
    },
    {
      "cell_type": "code",
      "source": [
        "import pandas as pd\n",
        "\n",
        "# Creating a sample DataFrame\n",
        "data = {\n",
        "    \"Name\": [\"Alice\", \"Bob\", \"Charlie\", \"David\", \"Eva\"],\n",
        "    \"Age\": [24, 30, 22, 35, 28],\n",
        "    \"Department\": [\"HR\", \"IT\", \"Finance\", \"Marketing\", \"IT\"],\n",
        "    \"Salary\": [45000, 60000, 52000, 58000, 49000]\n",
        "}\n",
        "\n",
        "df = pd.DataFrame(data)\n",
        "\n",
        "# Saving it as CSV\n",
        "df.to_csv(\"employees.csv\", index=False)\n",
        "\n",
        "print(\"CSV file 'employees.csv' created successfully!\")\n"
      ],
      "metadata": {
        "colab": {
          "base_uri": "https://localhost:8080/"
        },
        "id": "FZ6GppJJBSqH",
        "outputId": "faef23bd-f772-48ee-e1b9-e6a60be55b5e"
      },
      "execution_count": 20,
      "outputs": [
        {
          "output_type": "stream",
          "name": "stdout",
          "text": [
            "CSV file 'employees.csv' created successfully!\n"
          ]
        }
      ]
    },
    {
      "cell_type": "code",
      "source": [
        "import pandas as pd\n",
        "\n",
        "df = pd.read_csv(\"employees.csv\")\n",
        "print(df.head())\n"
      ],
      "metadata": {
        "colab": {
          "base_uri": "https://localhost:8080/"
        },
        "id": "e1zDFxHpAFNs",
        "outputId": "00ed7932-8cbf-47a5-d11a-4b0127b3c7bf"
      },
      "execution_count": 22,
      "outputs": [
        {
          "output_type": "stream",
          "name": "stdout",
          "text": [
            "      Name  Age Department  Salary\n",
            "0    Alice   24         HR   45000\n",
            "1      Bob   30         IT   60000\n",
            "2  Charlie   22    Finance   52000\n",
            "3    David   35  Marketing   58000\n",
            "4      Eva   28         IT   49000\n"
          ]
        }
      ]
    },
    {
      "cell_type": "markdown",
      "source": [
        "**Q13. Cteate a 3-D scater plot using plotly.**"
      ],
      "metadata": {
        "id": "7RtBOtUxAj-G"
      }
    },
    {
      "cell_type": "code",
      "source": [
        "import pandas as pd\n",
        "import plotly.express as px\n",
        "import numpy as np\n",
        "\n",
        "np.random.seed(42)\n",
        "df = pd.DataFrame({\n",
        "    \"x\": np.random.randint(1, 50, 30),\n",
        "    \"y\": np.random.randint(1, 50, 30),\n",
        "    \"z\": np.random.randint(1, 50, 30)\n",
        "})\n",
        "\n",
        "fig = px.scatter_3d(df, x=\"x\", y=\"y\", z=\"z\",\n",
        "                    title=\"3D Scatter Plot\",\n",
        "                    color=\"z\", size=\"y\")\n",
        "\n",
        "fig.update_layout(scene=dict(\n",
        "    xaxis=dict(showline=True, linewidth=2, linecolor='black', mirror=True),\n",
        "    yaxis=dict(showline=True, linewidth=2, linecolor='black', mirror=True),\n",
        "    zaxis=dict(showline=True, linewidth=2, linecolor='black', mirror=True)\n",
        "))\n",
        "\n",
        "fig.show()\n"
      ],
      "metadata": {
        "colab": {
          "base_uri": "https://localhost:8080/",
          "height": 542
        },
        "id": "BLdiI2mPDZo1",
        "outputId": "b67d3bdd-d6b5-4627-ecdf-aaaaf717d56d"
      },
      "execution_count": 26,
      "outputs": [
        {
          "output_type": "display_data",
          "data": {
            "text/html": [
              "<html>\n",
              "<head><meta charset=\"utf-8\" /></head>\n",
              "<body>\n",
              "    <div>            <script src=\"https://cdnjs.cloudflare.com/ajax/libs/mathjax/2.7.5/MathJax.js?config=TeX-AMS-MML_SVG\"></script><script type=\"text/javascript\">if (window.MathJax && window.MathJax.Hub && window.MathJax.Hub.Config) {window.MathJax.Hub.Config({SVG: {font: \"STIX-Web\"}});}</script>                <script type=\"text/javascript\">window.PlotlyConfig = {MathJaxConfig: 'local'};</script>\n",
              "        <script charset=\"utf-8\" src=\"https://cdn.plot.ly/plotly-2.35.2.min.js\"></script>                <div id=\"09b65f1a-b533-4e89-a79a-28ec61ad36fb\" class=\"plotly-graph-div\" style=\"height:525px; width:100%;\"></div>            <script type=\"text/javascript\">                                    window.PLOTLYENV=window.PLOTLYENV || {};                                    if (document.getElementById(\"09b65f1a-b533-4e89-a79a-28ec61ad36fb\")) {                    Plotly.newPlot(                        \"09b65f1a-b533-4e89-a79a-28ec61ad36fb\",                        [{\"hovertemplate\":\"x=%{x}\\u003cbr\\u003ey=%{marker.size}\\u003cbr\\u003ez=%{marker.color}\\u003cextra\\u003e\\u003c\\u002fextra\\u003e\",\"legendgroup\":\"\",\"marker\":{\"color\":[36,40,4,2,6,42,4,29,18,26,44,34,10,36,14,31,48,15,8,14,23,40,21,16,45,18,47,24,26,25],\"coloraxis\":\"coloraxis\",\"size\":[27,42,28,16,15,47,44,3,37,7,21,9,39,18,4,25,14,9,26,2,20,28,47,7,44,8,47,35,14,17],\"sizemode\":\"area\",\"sizeref\":0.1175,\"symbol\":\"circle\"},\"mode\":\"markers\",\"name\":\"\",\"scene\":\"scene\",\"showlegend\":false,\"x\":[39,29,15,43,8,21,39,19,23,11,11,24,36,40,24,3,22,2,24,44,30,38,2,21,33,12,22,44,25,49],\"y\":[27,42,28,16,15,47,44,3,37,7,21,9,39,18,4,25,14,9,26,2,20,28,47,7,44,8,47,35,14,17],\"z\":[36,40,4,2,6,42,4,29,18,26,44,34,10,36,14,31,48,15,8,14,23,40,21,16,45,18,47,24,26,25],\"type\":\"scatter3d\"}],                        {\"template\":{\"data\":{\"histogram2dcontour\":[{\"type\":\"histogram2dcontour\",\"colorbar\":{\"outlinewidth\":0,\"ticks\":\"\"},\"colorscale\":[[0.0,\"#0d0887\"],[0.1111111111111111,\"#46039f\"],[0.2222222222222222,\"#7201a8\"],[0.3333333333333333,\"#9c179e\"],[0.4444444444444444,\"#bd3786\"],[0.5555555555555556,\"#d8576b\"],[0.6666666666666666,\"#ed7953\"],[0.7777777777777778,\"#fb9f3a\"],[0.8888888888888888,\"#fdca26\"],[1.0,\"#f0f921\"]]}],\"choropleth\":[{\"type\":\"choropleth\",\"colorbar\":{\"outlinewidth\":0,\"ticks\":\"\"}}],\"histogram2d\":[{\"type\":\"histogram2d\",\"colorbar\":{\"outlinewidth\":0,\"ticks\":\"\"},\"colorscale\":[[0.0,\"#0d0887\"],[0.1111111111111111,\"#46039f\"],[0.2222222222222222,\"#7201a8\"],[0.3333333333333333,\"#9c179e\"],[0.4444444444444444,\"#bd3786\"],[0.5555555555555556,\"#d8576b\"],[0.6666666666666666,\"#ed7953\"],[0.7777777777777778,\"#fb9f3a\"],[0.8888888888888888,\"#fdca26\"],[1.0,\"#f0f921\"]]}],\"heatmap\":[{\"type\":\"heatmap\",\"colorbar\":{\"outlinewidth\":0,\"ticks\":\"\"},\"colorscale\":[[0.0,\"#0d0887\"],[0.1111111111111111,\"#46039f\"],[0.2222222222222222,\"#7201a8\"],[0.3333333333333333,\"#9c179e\"],[0.4444444444444444,\"#bd3786\"],[0.5555555555555556,\"#d8576b\"],[0.6666666666666666,\"#ed7953\"],[0.7777777777777778,\"#fb9f3a\"],[0.8888888888888888,\"#fdca26\"],[1.0,\"#f0f921\"]]}],\"heatmapgl\":[{\"type\":\"heatmapgl\",\"colorbar\":{\"outlinewidth\":0,\"ticks\":\"\"},\"colorscale\":[[0.0,\"#0d0887\"],[0.1111111111111111,\"#46039f\"],[0.2222222222222222,\"#7201a8\"],[0.3333333333333333,\"#9c179e\"],[0.4444444444444444,\"#bd3786\"],[0.5555555555555556,\"#d8576b\"],[0.6666666666666666,\"#ed7953\"],[0.7777777777777778,\"#fb9f3a\"],[0.8888888888888888,\"#fdca26\"],[1.0,\"#f0f921\"]]}],\"contourcarpet\":[{\"type\":\"contourcarpet\",\"colorbar\":{\"outlinewidth\":0,\"ticks\":\"\"}}],\"contour\":[{\"type\":\"contour\",\"colorbar\":{\"outlinewidth\":0,\"ticks\":\"\"},\"colorscale\":[[0.0,\"#0d0887\"],[0.1111111111111111,\"#46039f\"],[0.2222222222222222,\"#7201a8\"],[0.3333333333333333,\"#9c179e\"],[0.4444444444444444,\"#bd3786\"],[0.5555555555555556,\"#d8576b\"],[0.6666666666666666,\"#ed7953\"],[0.7777777777777778,\"#fb9f3a\"],[0.8888888888888888,\"#fdca26\"],[1.0,\"#f0f921\"]]}],\"surface\":[{\"type\":\"surface\",\"colorbar\":{\"outlinewidth\":0,\"ticks\":\"\"},\"colorscale\":[[0.0,\"#0d0887\"],[0.1111111111111111,\"#46039f\"],[0.2222222222222222,\"#7201a8\"],[0.3333333333333333,\"#9c179e\"],[0.4444444444444444,\"#bd3786\"],[0.5555555555555556,\"#d8576b\"],[0.6666666666666666,\"#ed7953\"],[0.7777777777777778,\"#fb9f3a\"],[0.8888888888888888,\"#fdca26\"],[1.0,\"#f0f921\"]]}],\"mesh3d\":[{\"type\":\"mesh3d\",\"colorbar\":{\"outlinewidth\":0,\"ticks\":\"\"}}],\"scatter\":[{\"fillpattern\":{\"fillmode\":\"overlay\",\"size\":10,\"solidity\":0.2},\"type\":\"scatter\"}],\"parcoords\":[{\"type\":\"parcoords\",\"line\":{\"colorbar\":{\"outlinewidth\":0,\"ticks\":\"\"}}}],\"scatterpolargl\":[{\"type\":\"scatterpolargl\",\"marker\":{\"colorbar\":{\"outlinewidth\":0,\"ticks\":\"\"}}}],\"bar\":[{\"error_x\":{\"color\":\"#2a3f5f\"},\"error_y\":{\"color\":\"#2a3f5f\"},\"marker\":{\"line\":{\"color\":\"#E5ECF6\",\"width\":0.5},\"pattern\":{\"fillmode\":\"overlay\",\"size\":10,\"solidity\":0.2}},\"type\":\"bar\"}],\"scattergeo\":[{\"type\":\"scattergeo\",\"marker\":{\"colorbar\":{\"outlinewidth\":0,\"ticks\":\"\"}}}],\"scatterpolar\":[{\"type\":\"scatterpolar\",\"marker\":{\"colorbar\":{\"outlinewidth\":0,\"ticks\":\"\"}}}],\"histogram\":[{\"marker\":{\"pattern\":{\"fillmode\":\"overlay\",\"size\":10,\"solidity\":0.2}},\"type\":\"histogram\"}],\"scattergl\":[{\"type\":\"scattergl\",\"marker\":{\"colorbar\":{\"outlinewidth\":0,\"ticks\":\"\"}}}],\"scatter3d\":[{\"type\":\"scatter3d\",\"line\":{\"colorbar\":{\"outlinewidth\":0,\"ticks\":\"\"}},\"marker\":{\"colorbar\":{\"outlinewidth\":0,\"ticks\":\"\"}}}],\"scattermapbox\":[{\"type\":\"scattermapbox\",\"marker\":{\"colorbar\":{\"outlinewidth\":0,\"ticks\":\"\"}}}],\"scatterternary\":[{\"type\":\"scatterternary\",\"marker\":{\"colorbar\":{\"outlinewidth\":0,\"ticks\":\"\"}}}],\"scattercarpet\":[{\"type\":\"scattercarpet\",\"marker\":{\"colorbar\":{\"outlinewidth\":0,\"ticks\":\"\"}}}],\"carpet\":[{\"aaxis\":{\"endlinecolor\":\"#2a3f5f\",\"gridcolor\":\"white\",\"linecolor\":\"white\",\"minorgridcolor\":\"white\",\"startlinecolor\":\"#2a3f5f\"},\"baxis\":{\"endlinecolor\":\"#2a3f5f\",\"gridcolor\":\"white\",\"linecolor\":\"white\",\"minorgridcolor\":\"white\",\"startlinecolor\":\"#2a3f5f\"},\"type\":\"carpet\"}],\"table\":[{\"cells\":{\"fill\":{\"color\":\"#EBF0F8\"},\"line\":{\"color\":\"white\"}},\"header\":{\"fill\":{\"color\":\"#C8D4E3\"},\"line\":{\"color\":\"white\"}},\"type\":\"table\"}],\"barpolar\":[{\"marker\":{\"line\":{\"color\":\"#E5ECF6\",\"width\":0.5},\"pattern\":{\"fillmode\":\"overlay\",\"size\":10,\"solidity\":0.2}},\"type\":\"barpolar\"}],\"pie\":[{\"automargin\":true,\"type\":\"pie\"}]},\"layout\":{\"autotypenumbers\":\"strict\",\"colorway\":[\"#636efa\",\"#EF553B\",\"#00cc96\",\"#ab63fa\",\"#FFA15A\",\"#19d3f3\",\"#FF6692\",\"#B6E880\",\"#FF97FF\",\"#FECB52\"],\"font\":{\"color\":\"#2a3f5f\"},\"hovermode\":\"closest\",\"hoverlabel\":{\"align\":\"left\"},\"paper_bgcolor\":\"white\",\"plot_bgcolor\":\"#E5ECF6\",\"polar\":{\"bgcolor\":\"#E5ECF6\",\"angularaxis\":{\"gridcolor\":\"white\",\"linecolor\":\"white\",\"ticks\":\"\"},\"radialaxis\":{\"gridcolor\":\"white\",\"linecolor\":\"white\",\"ticks\":\"\"}},\"ternary\":{\"bgcolor\":\"#E5ECF6\",\"aaxis\":{\"gridcolor\":\"white\",\"linecolor\":\"white\",\"ticks\":\"\"},\"baxis\":{\"gridcolor\":\"white\",\"linecolor\":\"white\",\"ticks\":\"\"},\"caxis\":{\"gridcolor\":\"white\",\"linecolor\":\"white\",\"ticks\":\"\"}},\"coloraxis\":{\"colorbar\":{\"outlinewidth\":0,\"ticks\":\"\"}},\"colorscale\":{\"sequential\":[[0.0,\"#0d0887\"],[0.1111111111111111,\"#46039f\"],[0.2222222222222222,\"#7201a8\"],[0.3333333333333333,\"#9c179e\"],[0.4444444444444444,\"#bd3786\"],[0.5555555555555556,\"#d8576b\"],[0.6666666666666666,\"#ed7953\"],[0.7777777777777778,\"#fb9f3a\"],[0.8888888888888888,\"#fdca26\"],[1.0,\"#f0f921\"]],\"sequentialminus\":[[0.0,\"#0d0887\"],[0.1111111111111111,\"#46039f\"],[0.2222222222222222,\"#7201a8\"],[0.3333333333333333,\"#9c179e\"],[0.4444444444444444,\"#bd3786\"],[0.5555555555555556,\"#d8576b\"],[0.6666666666666666,\"#ed7953\"],[0.7777777777777778,\"#fb9f3a\"],[0.8888888888888888,\"#fdca26\"],[1.0,\"#f0f921\"]],\"diverging\":[[0,\"#8e0152\"],[0.1,\"#c51b7d\"],[0.2,\"#de77ae\"],[0.3,\"#f1b6da\"],[0.4,\"#fde0ef\"],[0.5,\"#f7f7f7\"],[0.6,\"#e6f5d0\"],[0.7,\"#b8e186\"],[0.8,\"#7fbc41\"],[0.9,\"#4d9221\"],[1,\"#276419\"]]},\"xaxis\":{\"gridcolor\":\"white\",\"linecolor\":\"white\",\"ticks\":\"\",\"title\":{\"standoff\":15},\"zerolinecolor\":\"white\",\"automargin\":true,\"zerolinewidth\":2},\"yaxis\":{\"gridcolor\":\"white\",\"linecolor\":\"white\",\"ticks\":\"\",\"title\":{\"standoff\":15},\"zerolinecolor\":\"white\",\"automargin\":true,\"zerolinewidth\":2},\"scene\":{\"xaxis\":{\"backgroundcolor\":\"#E5ECF6\",\"gridcolor\":\"white\",\"linecolor\":\"white\",\"showbackground\":true,\"ticks\":\"\",\"zerolinecolor\":\"white\",\"gridwidth\":2},\"yaxis\":{\"backgroundcolor\":\"#E5ECF6\",\"gridcolor\":\"white\",\"linecolor\":\"white\",\"showbackground\":true,\"ticks\":\"\",\"zerolinecolor\":\"white\",\"gridwidth\":2},\"zaxis\":{\"backgroundcolor\":\"#E5ECF6\",\"gridcolor\":\"white\",\"linecolor\":\"white\",\"showbackground\":true,\"ticks\":\"\",\"zerolinecolor\":\"white\",\"gridwidth\":2}},\"shapedefaults\":{\"line\":{\"color\":\"#2a3f5f\"}},\"annotationdefaults\":{\"arrowcolor\":\"#2a3f5f\",\"arrowhead\":0,\"arrowwidth\":1},\"geo\":{\"bgcolor\":\"white\",\"landcolor\":\"#E5ECF6\",\"subunitcolor\":\"white\",\"showland\":true,\"showlakes\":true,\"lakecolor\":\"white\"},\"title\":{\"x\":0.05},\"mapbox\":{\"style\":\"light\"}}},\"scene\":{\"domain\":{\"x\":[0.0,1.0],\"y\":[0.0,1.0]},\"xaxis\":{\"title\":{\"text\":\"x\"},\"showline\":true,\"linewidth\":2,\"linecolor\":\"black\",\"mirror\":true},\"yaxis\":{\"title\":{\"text\":\"y\"},\"showline\":true,\"linewidth\":2,\"linecolor\":\"black\",\"mirror\":true},\"zaxis\":{\"title\":{\"text\":\"z\"},\"showline\":true,\"linewidth\":2,\"linecolor\":\"black\",\"mirror\":true}},\"coloraxis\":{\"colorbar\":{\"title\":{\"text\":\"z\"}},\"colorscale\":[[0.0,\"#0d0887\"],[0.1111111111111111,\"#46039f\"],[0.2222222222222222,\"#7201a8\"],[0.3333333333333333,\"#9c179e\"],[0.4444444444444444,\"#bd3786\"],[0.5555555555555556,\"#d8576b\"],[0.6666666666666666,\"#ed7953\"],[0.7777777777777778,\"#fb9f3a\"],[0.8888888888888888,\"#fdca26\"],[1.0,\"#f0f921\"]]},\"legend\":{\"tracegroupgap\":0,\"itemsizing\":\"constant\"},\"title\":{\"text\":\"3D Scatter Plot\"}},                        {\"responsive\": true}                    ).then(function(){\n",
              "                            \n",
              "var gd = document.getElementById('09b65f1a-b533-4e89-a79a-28ec61ad36fb');\n",
              "var x = new MutationObserver(function (mutations, observer) {{\n",
              "        var display = window.getComputedStyle(gd).display;\n",
              "        if (!display || display === 'none') {{\n",
              "            console.log([gd, 'removed!']);\n",
              "            Plotly.purge(gd);\n",
              "            observer.disconnect();\n",
              "        }}\n",
              "}});\n",
              "\n",
              "// Listen for the removal of the full notebook cells\n",
              "var notebookContainer = gd.closest('#notebook-container');\n",
              "if (notebookContainer) {{\n",
              "    x.observe(notebookContainer, {childList: true});\n",
              "}}\n",
              "\n",
              "// Listen for the clearing of the current output cell\n",
              "var outputEl = gd.closest('.output');\n",
              "if (outputEl) {{\n",
              "    x.observe(outputEl, {childList: true});\n",
              "}}\n",
              "\n",
              "                        })                };                            </script>        </div>\n",
              "</body>\n",
              "</html>"
            ]
          },
          "metadata": {}
        }
      ]
    }
  ]
}